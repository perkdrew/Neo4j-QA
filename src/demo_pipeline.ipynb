{
 "cells": [
  {
   "cell_type": "code",
   "execution_count": 1,
   "metadata": {
    "scrolled": false
   },
   "outputs": [
    {
     "name": "stdout",
     "output_type": "stream",
     "text": [
      "Connected...\n"
     ]
    }
   ],
   "source": [
    "from IPython.display import display, Markdown, clear_output, HTML\n",
    "import ipywidgets as widgets\n",
    "from pprint import pprint\n",
    "import markdown\n",
    "\n",
    "from prospero_main import *"
   ]
  },
  {
   "cell_type": "code",
   "execution_count": 2,
   "metadata": {
    "scrolled": true
   },
   "outputs": [
    {
     "data": {
      "application/javascript": [
       "IPython.OutputArea.prototype._should_scroll = function(lines) {\n",
       "    return false;\n",
       "}\n"
      ],
      "text/plain": [
       "<IPython.core.display.Javascript object>"
      ]
     },
     "metadata": {},
     "output_type": "display_data"
    }
   ],
   "source": [
    "%%javascript\n",
    "IPython.OutputArea.prototype._should_scroll = function(lines) {\n",
    "    return false;\n",
    "}"
   ]
  },
  {
   "cell_type": "code",
   "execution_count": 5,
   "metadata": {
    "scrolled": false
   },
   "outputs": [
    {
     "data": {
      "application/vnd.jupyter.widget-view+json": {
       "model_id": "acd5c329cb7345bbac283d0f3371bcea",
       "version_major": 2,
       "version_minor": 0
      },
      "text/plain": [
       "GridBox(children=(HTML(value='<b>Neo4j-QA</b>', layout=Layout(grid_area='header', width='75%')), Textarea(valu…"
      ]
     },
     "metadata": {},
     "output_type": "display_data"
    },
    {
     "data": {
      "application/vnd.jupyter.widget-view+json": {
       "model_id": "9d81ea121b20408aaa83d13a550ddc33",
       "version_major": 2,
       "version_minor": 0
      },
      "text/plain": [
       "GridBox(children=(Output(layout=Layout(grid_area='out', width='auto')),), layout=Layout(width='75%'))"
      ]
     },
     "metadata": {},
     "output_type": "display_data"
    }
   ],
   "source": [
    "header = widgets.HTML(\n",
    "        value=\"<b>Neo4j-QA</b>\", \n",
    "        layout=widgets.Layout(width='75%', grid_area='header')\n",
    ")\n",
    "\n",
    "# defining some widgets\n",
    "text = widgets.Textarea(\n",
    "    value='Ask a Question!',\n",
    "    placeholder='Ask a question',\n",
    "    description='Text:',\n",
    "    disabled=False,\n",
    "    layout=widgets.Layout(width='auto', grid_area='text')\n",
    ")\n",
    "\n",
    "button = widgets.Button(description='Submit',\n",
    "                       layout=widgets.Layout(width='auto', grid_area='button'),\n",
    "                       style=widgets.ButtonStyle(button_color='lightblue'))\n",
    "out = widgets.Output(layout=widgets.Layout(width='auto', grid_area='out'))\n",
    "\n",
    "def on_button_clicked(_):\n",
    "    # \"linking function with output\"\n",
    "    with out:\n",
    "        # what happens when we press the button\n",
    "        clear_output()\n",
    "        QA(Host, text.value).query_select()\n",
    "\n",
    "# linking button and function together\n",
    "button.on_click(on_button_clicked)\n",
    "# displaying button\n",
    "grid1 = widgets.GridBox(children=[header, text, button],\n",
    "               layout=widgets.Layout(\n",
    "               width='75%',\n",
    "               grid_template_rows='20% 50% 15% 15%',\n",
    "               grid_template_columns='20% 20% 20% 20% 20%',\n",
    "               grid_template_areas='''\n",
    "               \". . header . .\"\n",
    "               \"text text text text text\"\n",
    "               \". . button . .\"\n",
    "               '''))\n",
    "grid2 = widgets.GridBox(children=[out],\n",
    "               layout=widgets.Layout(\n",
    "               width='75%'))\n",
    "display(grid1,grid2)"
   ]
  },
  {
   "cell_type": "code",
   "execution_count": 4,
   "metadata": {
    "scrolled": true
   },
   "outputs": [],
   "source": [
    "# What are the top 20 keywords in the corpus?\n",
    "# What does Tim Osborne do?\n",
    "# Who works at Deutsche Bank?\n",
    "# What did Richard Parsons say?\n",
    "# How closely related are certain people?\n",
    "# How often does Bush appear?\n",
    "# How many sentences with Bush are negative?"
   ]
  }
 ],
 "metadata": {
  "kernelspec": {
   "display_name": "Python 3",
   "language": "python",
   "name": "python3"
  },
  "language_info": {
   "codemirror_mode": {
    "name": "ipython",
    "version": 3
   },
   "file_extension": ".py",
   "mimetype": "text/x-python",
   "name": "python",
   "nbconvert_exporter": "python",
   "pygments_lexer": "ipython3",
   "version": "3.7.6"
  }
 },
 "nbformat": 4,
 "nbformat_minor": 4
}
